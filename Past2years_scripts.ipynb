{
  "nbformat": 4,
  "nbformat_minor": 0,
  "metadata": {
    "colab": {
      "name": "Past2years_scripts.ipynb",
      "provenance": [],
      "collapsed_sections": [],
      "authorship_tag": "ABX9TyOgPPBEc4hoIWgWVb7ub5O5",
      "include_colab_link": true
    },
    "kernelspec": {
      "display_name": "Python 3",
      "name": "python3"
    },
    "language_info": {
      "name": "python"
    }
  },
  "cells": [
    {
      "cell_type": "markdown",
      "metadata": {
        "id": "view-in-github",
        "colab_type": "text"
      },
      "source": [
        "<a href=\"https://colab.research.google.com/github/Chaitanyadarekar/Derving-16-additional-attributes-from-Tennis-csv/blob/main/Past2years_scripts.ipynb\" target=\"_parent\"><img src=\"https://colab.research.google.com/assets/colab-badge.svg\" alt=\"Open In Colab\"/></a>"
      ]
    },
    {
      "cell_type": "code",
      "metadata": {
        "id": "Bl510wo-gQ9s"
      },
      "source": [
        "import pandas as pd"
      ],
      "execution_count": 28,
      "outputs": []
    },
    {
      "cell_type": "code",
      "metadata": {
        "id": "O0A38K480XQ5"
      },
      "source": [
        "# ---------GUIDELINES BEFORE USING AND GETTING THE AUTOMATICALLY CSV AutoDOWNLOADED-----------\n",
        "\n",
        "# Just Download the the csv files from JeffSekkmans Tennis db, upload the file you want on Google Colab\n",
        "# for ATP 2021 insights csv download, upload the /content/atp_matches_2021.csv from Db\n",
        "#Set the option 1 2 3 or 4 according to the file you want insights on and select Run all option from Runtime(Ctrl + F9 shortcut) \n",
        "# 1 for ATP Challengers singles 2021 stats\n",
        "# 2 fo ATP Main tour singles stats\n",
        "# 3 for WTA main tour 2021 stats\n",
        "# 4 for WTA challenger main tour stats\n",
        "\n",
        "# 16 additional columns that are added by this code for better insights\n",
        "\n",
        "#'w_1st_In_prc' - Winner first serves In percentage, \n",
        "# 'l_1st_In_prc'-Loser first serves In percentage,\n",
        "# 'w_1stprc'-Winner first serves won percentage,\n",
        "# 'l_1stprc'-Loser first serves won percentage,\n",
        "# 'w_2ndprc'-Winner second serves won percentage,\n",
        "# 'l_2ndprc'-Loser second serves won percentage, \n",
        "# 'w_bpSavedprc'-Percentage of breakpoints saved by winner,\n",
        "# 'l_bpSavedprc'-Percentage of breakpoints saved by loser, \n",
        "# 'w_dr'-Winner dominance ratio(ir Winner return points won percentage/ Loser return points won percentage),\n",
        "# 'l_dr'-Loser Dominance ratio,\n",
        "# 'w1st_retprc'-Percentage of 1st serve return points won by Winner, \n",
        "# 'l1st_retprc'-Percentage of 1st serve return points won by Loser, \n",
        "# 'w2nd_retprc'-Percentage of 2nd serve return points won by Winner,\n",
        "# 'l2nd_retprc'-Percentage of 2nd serve return points won by Loser,\n",
        "# 'nos'- Total number of sets played in the match for 3 set matches,\n",
        "# 'comeback'- If the winner has won by being behind a set ie 1 fo comback victory , 0 if not a comeback\n",
        "\n",
        "\n",
        "option=2"
      ],
      "execution_count": 29,
      "outputs": []
    },
    {
      "cell_type": "code",
      "metadata": {
        "id": "1l3rv68WpF0h"
      },
      "source": [
        "# #Challengers\n",
        "ATP_2021_CH_PATH=\"/content/atp_matches_qual_chall_2021.csv\"\n",
        "#Atp\n",
        "ATP_2021_PATH=\"/content/atp_matches_2021.csv\"\n",
        "#wta\n",
        "WTA_2021_PATH=\"/content/wta_matches_2021.csv\"\n",
        "#wta_Challenger\n",
        "WTA_CH_PATH=\"/content/wta_matches_qual_itf_2021.csv\"\n",
        "\n",
        "if option==1:\n",
        "  path2021=ATP_2021_CH_PATH\n",
        "elif option==2:\n",
        "  path2021=ATP_2021_PATH\n",
        "elif option==3:\n",
        "  path2021=WTA_2021_PATH\n",
        "elif option==4:\n",
        "  path2021=WTA_CH_PATH\n",
        "\n",
        "#Past2\n",
        "# path2019=\"/content/wta_matches_2019.csv\"\n",
        "# path2020=\"/content/wta_matches_2020.csv\"\n",
        "\n",
        "# path2019=\"/content/atp_matches_2019.csv\"\n",
        "# path2020=\"/content/atp_matches_2020.csv\"\n",
        "\n",
        "# path2019=\"/content/atp_matches_qual_chall_2019.csv\"\n",
        "# path2020=\"/content/atp_matches_qual_chall_2020.csv\""
      ],
      "execution_count": 30,
      "outputs": []
    },
    {
      "cell_type": "code",
      "metadata": {
        "id": "tH7cUqvipTQt"
      },
      "source": [
        "y1=pd.read_csv(path2021)\n",
        "# y2=pd.read_csv(path2020)\n",
        "# y3=pd.read_csv(path2019)"
      ],
      "execution_count": 31,
      "outputs": []
    },
    {
      "cell_type": "code",
      "metadata": {
        "id": "-BdJoCtE2w-V"
      },
      "source": [
        "# past_2=pd.concat([y3,y2])\n",
        "past_2=y1"
      ],
      "execution_count": 32,
      "outputs": []
    },
    {
      "cell_type": "code",
      "metadata": {
        "colab": {
          "base_uri": "https://localhost:8080/"
        },
        "id": "KQTfiwMbpqgN",
        "outputId": "f04676e6-6402-4eb9-d766-1bc704174760"
      },
      "source": [
        "past_2.shape"
      ],
      "execution_count": 33,
      "outputs": [
        {
          "output_type": "execute_result",
          "data": {
            "text/plain": [
              "(2279, 49)"
            ]
          },
          "metadata": {},
          "execution_count": 33
        }
      ]
    },
    {
      "cell_type": "code",
      "metadata": {
        "id": "cF4XPJ9Bp-mo"
      },
      "source": [
        "w_svpt=past_2[\"w_svpt\"]\n",
        "w_1stIn=past_2[\"w_1stIn\"]\n",
        "w_1stWon=past_2[\"w_1stWon\"]\n",
        "w_2ndWon=past_2[\"w_2ndWon\"]\n",
        "l_svpt=past_2[\"l_svpt\"]\n",
        "l_1stIn=past_2[\"l_1stIn\"]\n",
        "l_1stWon=past_2[\"l_1stWon\"]\n",
        "l_2ndWon=past_2[\"l_2ndWon\"]\n",
        "w_bpFaced=past_2[\"w_bpFaced\"]\n",
        "w_bpSaved=past_2[\"w_bpSaved\"]\n",
        "l_bpFaced=past_2[\"l_bpFaced\"]\n",
        "l_bpSaved=past_2[\"l_bpSaved\"]\n",
        "w_df=past_2[\"w_df\"]\n",
        "l_df=past_2[\"l_df\"]"
      ],
      "execution_count": 34,
      "outputs": []
    },
    {
      "cell_type": "code",
      "metadata": {
        "id": "72qtqWfyqbsV"
      },
      "source": [
        "npw_svpt=w_svpt.to_numpy()\n",
        "npw_1stIn=w_1stIn.to_numpy()\n",
        "npw_1stWon=w_1stWon.to_numpy()\n",
        "npw_2ndWon=w_2ndWon.to_numpy()\n",
        "npl_svpt=l_svpt.to_numpy()\n",
        "npl_1stIn=l_1stIn.to_numpy()\n",
        "npl_1stWon=l_1stWon.to_numpy()\n",
        "npl_2ndWon=l_2ndWon.to_numpy()\n",
        "npw_bpFaced=w_bpFaced.to_numpy()\n",
        "npw_bpSaved=w_bpSaved.to_numpy()\n",
        "npl_bpFaced=l_bpFaced.to_numpy()\n",
        "npl_bpSaved=l_bpSaved.to_numpy()\n",
        "npw_df=w_df.to_numpy()\n",
        "npl_df=l_df.to_numpy()\n"
      ],
      "execution_count": 35,
      "outputs": []
    },
    {
      "cell_type": "code",
      "metadata": {
        "colab": {
          "base_uri": "https://localhost:8080/"
        },
        "id": "p1nKb7V5qqqq",
        "outputId": "5fe0d38c-dc61-44bf-e68c-1c4744ddbb63"
      },
      "source": [
        "w_1stprc=(npw_1stWon/npw_1stIn)*100\n",
        "l_1stprc=(npl_1stWon/npl_1stIn)*100\n",
        "w_2ndprc=(npw_2ndWon/(npw_svpt-npw_1stIn))*100\n",
        "l_2ndprc=(npl_2ndWon/(npl_svpt-npl_1stIn))*100\n",
        "w_bpSavedprc=(npw_bpSaved/npw_bpFaced)*100\n",
        "l_bpSavedprc=(npl_bpSaved/npl_bpFaced)*100\n",
        "w_1st_In_prc=(npw_1stIn/npw_svpt)*100\n",
        "l_1st_In_prc=(npl_1stIn/npl_svpt)*100\n",
        "w_dr=(((npl_svpt-npl_1stWon-npl_2ndWon)/npl_svpt)*100)/(((npw_svpt-npw_1stWon-npw_2ndWon)/npw_svpt)*100)\n",
        "l_dr=(((npw_svpt-npw_1stWon-npw_2ndWon)/npw_svpt)*100)/(((npl_svpt-npl_1stWon-npl_2ndWon)/npl_svpt)*100)"
      ],
      "execution_count": 36,
      "outputs": [
        {
          "output_type": "stream",
          "name": "stderr",
          "text": [
            "/usr/local/lib/python3.7/dist-packages/ipykernel_launcher.py:5: RuntimeWarning: invalid value encountered in true_divide\n",
            "  \"\"\"\n",
            "/usr/local/lib/python3.7/dist-packages/ipykernel_launcher.py:6: RuntimeWarning: invalid value encountered in true_divide\n",
            "  \n"
          ]
        }
      ]
    },
    {
      "cell_type": "code",
      "metadata": {
        "id": "i2GxdGtgquKu"
      },
      "source": [
        "past_2[\"w_1st_In_prc\"]=w_1st_In_prc\n",
        "past_2[\"l_1st_In_prc\"]=l_1st_In_prc\n",
        "\n",
        "past_2[\"w_1stprc\"]=w_1stprc\n",
        "past_2[\"l_1stprc\"]=l_1stprc\n",
        "past_2[\"w_2ndprc\"]=w_2ndprc\n",
        "past_2[\"l_2ndprc\"]=l_2ndprc\n",
        "past_2[\"w_bpSavedprc\"]=w_bpSavedprc\n",
        "past_2[\"l_bpSavedprc\"]=l_bpSavedprc\n",
        "past_2[\"w_dr\"]=w_dr\n",
        "past_2[\"l_dr\"]=l_dr"
      ],
      "execution_count": 37,
      "outputs": []
    },
    {
      "cell_type": "code",
      "metadata": {
        "colab": {
          "base_uri": "https://localhost:8080/"
        },
        "id": "KnZnncvPq8vZ",
        "outputId": "596ac376-743b-43e7-9f55-c87f927c9ca0"
      },
      "source": [
        "\n",
        "past_2.shape"
      ],
      "execution_count": 38,
      "outputs": [
        {
          "output_type": "execute_result",
          "data": {
            "text/plain": [
              "(2279, 59)"
            ]
          },
          "metadata": {},
          "execution_count": 38
        }
      ]
    },
    {
      "cell_type": "code",
      "metadata": {
        "id": "8f2o_9s5q-5E"
      },
      "source": [
        "npw_1stprc=past_2[\"w_1stprc\"].to_numpy()\n",
        "npl_1stprc=past_2[\"l_1stprc\"].to_numpy()"
      ],
      "execution_count": 39,
      "outputs": []
    },
    {
      "cell_type": "code",
      "metadata": {
        "id": "6k8kmSuirEPA"
      },
      "source": [
        "w1st_retprc=100-npl_1stprc\n",
        "l1st_retprc=100-npw_1stprc\n",
        "w2nd_retprc=((npl_svpt-npl_1stIn-npl_2ndWon-npl_df)/(npl_svpt-npl_1stIn))*100\n",
        "l2nd_retprc=((npw_svpt-npw_1stIn-npw_2ndWon-npw_df)/(npw_svpt-npw_1stIn))*100"
      ],
      "execution_count": 40,
      "outputs": []
    },
    {
      "cell_type": "code",
      "metadata": {
        "id": "ayJkD5LqrNBo"
      },
      "source": [
        "past_2[\"w1st_retprc\"]=w1st_retprc\n",
        "past_2[\"l1st_retprc\"]=l1st_retprc\n",
        "past_2[\"w2nd_retprc\"]=w2nd_retprc\n",
        "past_2[\"l2nd_retprc\"]=l2nd_retprc"
      ],
      "execution_count": 41,
      "outputs": []
    },
    {
      "cell_type": "code",
      "metadata": {
        "colab": {
          "base_uri": "https://localhost:8080/"
        },
        "id": "6suyZZw9rTp6",
        "outputId": "e1e51985-9d4a-4449-ee5c-46bccae31d92"
      },
      "source": [
        "past_2.columns"
      ],
      "execution_count": 42,
      "outputs": [
        {
          "output_type": "execute_result",
          "data": {
            "text/plain": [
              "Index(['tourney_id', 'tourney_name', 'surface', 'draw_size', 'tourney_level',\n",
              "       'tourney_date', 'match_num', 'winner_id', 'winner_seed', 'winner_entry',\n",
              "       'winner_name', 'winner_hand', 'winner_ht', 'winner_ioc', 'winner_age',\n",
              "       'loser_id', 'loser_seed', 'loser_entry', 'loser_name', 'loser_hand',\n",
              "       'loser_ht', 'loser_ioc', 'loser_age', 'score', 'best_of', 'round',\n",
              "       'minutes', 'w_ace', 'w_df', 'w_svpt', 'w_1stIn', 'w_1stWon', 'w_2ndWon',\n",
              "       'w_SvGms', 'w_bpSaved', 'w_bpFaced', 'l_ace', 'l_df', 'l_svpt',\n",
              "       'l_1stIn', 'l_1stWon', 'l_2ndWon', 'l_SvGms', 'l_bpSaved', 'l_bpFaced',\n",
              "       'winner_rank', 'winner_rank_points', 'loser_rank', 'loser_rank_points',\n",
              "       'w_1st_In_prc', 'l_1st_In_prc', 'w_1stprc', 'l_1stprc', 'w_2ndprc',\n",
              "       'l_2ndprc', 'w_bpSavedprc', 'l_bpSavedprc', 'w_dr', 'l_dr',\n",
              "       'w1st_retprc', 'l1st_retprc', 'w2nd_retprc', 'l2nd_retprc'],\n",
              "      dtype='object')"
            ]
          },
          "metadata": {},
          "execution_count": 42
        }
      ]
    },
    {
      "cell_type": "code",
      "metadata": {
        "id": "rYtyhJOJ4CcJ"
      },
      "source": [
        "past_2['w_1st_In_prc']= past_2['w_1st_In_prc'].round(decimals=0)\n",
        "past_2['l_1st_In_prc']= past_2['l_1st_In_prc'].round(decimals=0)\n",
        "past_2['w_1stprc']= past_2['w_1stprc'].round(decimals=0)\n",
        "past_2['l_1stprc']= past_2['l_1stprc'].round(decimals=0)\n",
        "past_2['w_2ndprc']= past_2['w_2ndprc'].round(decimals=0)\n",
        "past_2['l_2ndprc']= past_2['l_2ndprc'].round(decimals=0)   \n",
        "past_2['w_bpSavedprc']= past_2['w_bpSavedprc'].round(decimals=0)  \n",
        "past_2['l_bpSavedprc']= past_2['l_bpSavedprc'].round(decimals=0)      \n",
        "past_2['w1st_retprc']= past_2['w1st_retprc'].round(decimals=0)  \n",
        "past_2['l1st_retprc']= past_2['l1st_retprc'].round(decimals=0)            \n",
        "past_2['w2nd_retprc']= past_2['w2nd_retprc'].round(decimals=0)   \n",
        "past_2['l2nd_retprc']= past_2['l2nd_retprc'].round(decimals=0)         \n",
        "past_2['w_dr']= past_2['w_dr'].round(decimals=2)           \n",
        "past_2['l_dr']= past_2['l_dr'].round(decimals=2)         "
      ],
      "execution_count": 43,
      "outputs": []
    },
    {
      "cell_type": "code",
      "metadata": {
        "id": "fCWPlZLgOhOL"
      },
      "source": [
        "# import numpy as np\n",
        "# nos=[]\n",
        "# past_2['score']=past_2['score'].astype(\"string\")\n",
        "# for i in past_2[\"score\"]:\n",
        "#   if \"RET\" in i or \"W/O\" in i :\n",
        "#     nos.append(0)\n",
        "#   elif i.count(\" \")==1:\n",
        "#     nos.append(2)\n",
        "#   elif i.count(\" \")==2:\n",
        "#     nos.append(3)\n",
        "#   else:\n",
        "#     nos.append(100) \n",
        "  \n",
        "# np_nos=np.array(nos)  \n",
        "# past_2[\"nos\"]=np_nos"
      ],
      "execution_count": 44,
      "outputs": []
    },
    {
      "cell_type": "code",
      "metadata": {
        "id": "_Nn8yMLBsj2-"
      },
      "source": [
        "past_2['score']=past_2['score'].fillna(100)"
      ],
      "execution_count": 45,
      "outputs": []
    },
    {
      "cell_type": "code",
      "metadata": {
        "id": "pgJae-_uq7vz"
      },
      "source": [
        "import numpy as np\n",
        "nos=[]\n",
        "\n",
        "past_2['score']=past_2['score'].astype(\"string\")\n",
        "for i in past_2[\"score\"]:\n",
        "  if \"RET\" in i or \"W/O\" in i or i=='100' :\n",
        "    nos.append(0)\n",
        "  elif i.count(\" \")==1:\n",
        "    nos.append(2)\n",
        "  elif i.count(\" \")==2:\n",
        "    nos.append(3)\n",
        "  else:\n",
        "    nos.append(100) \n",
        "  \n",
        "np_nos=np.array(nos)  \n",
        "past_2[\"nos\"]=np_nos"
      ],
      "execution_count": 46,
      "outputs": []
    },
    {
      "cell_type": "code",
      "metadata": {
        "colab": {
          "base_uri": "https://localhost:8080/"
        },
        "id": "oBj_LbuDThKF",
        "outputId": "839ce532-d2bf-4ac6-eaae-6b79dc9568fc"
      },
      "source": [
        "past_2.shape"
      ],
      "execution_count": 47,
      "outputs": [
        {
          "output_type": "execute_result",
          "data": {
            "text/plain": [
              "(2279, 64)"
            ]
          },
          "metadata": {},
          "execution_count": 47
        }
      ]
    },
    {
      "cell_type": "code",
      "metadata": {
        "id": "1mkY12zi4wNY"
      },
      "source": [
        "comeback=[]\n",
        "past_2['score']=past_2['score'].astype(\"string\")\n",
        "for i in past_2[\"score\"]:\n",
        "  if \"RET\" in i or \"W/O\" in i or i.count(\" \")==1:\n",
        "    comeback.append(0)\n",
        "  elif i.count(\" \")==2 and int(i[0])<int(i[2]):\n",
        "    comeback.append(1)\n",
        "  else:\n",
        "    comeback.append(-1)\n",
        "\n",
        "    \n",
        "  \n",
        "np_comeback=np.array(comeback)  \n",
        "past_2[\"comeback\"]=np_comeback"
      ],
      "execution_count": 48,
      "outputs": []
    },
    {
      "cell_type": "code",
      "metadata": {
        "colab": {
          "base_uri": "https://localhost:8080/",
          "height": 17
        },
        "id": "r6RfARwErX2x",
        "outputId": "1d1e0d4d-3b89-4750-d05c-cd39d397a707"
      },
      "source": [
        "from google.colab import files\n",
        "f1='T_ATP_CHQ_2021_65'\n",
        "f2='T_ATP_2021_65'\n",
        "f3='T_WTA_2021_65'\n",
        "f4='T_WTA_CHQ_2021'\n",
        "if option==1:\n",
        "  past_2.to_csv('T_ATP_CHQ_2021_65.csv') \n",
        "  files.download('T_ATP_CHQ_2021_65.csv')\n",
        "elif option==2:\n",
        "  past_2.to_csv('T_ATP_2021_65.csv') \n",
        "  files.download('T_ATP_2021_65.csv')\n",
        "elif option==3:\n",
        "  past_2.to_csv('T_WTA_2021_65.csv') \n",
        "  files.download('T_WTA_2021_65.csv')\n",
        "elif option==4:\n",
        "  past_2.to_csv('T_WTA_CHQ_2021_65.csv') \n",
        "  files.download('T_WTA_CHQ_2021_65.csv')\n",
        "\n",
        "\n",
        "\n"
      ],
      "execution_count": 49,
      "outputs": [
        {
          "output_type": "display_data",
          "data": {
            "application/javascript": [
              "\n",
              "    async function download(id, filename, size) {\n",
              "      if (!google.colab.kernel.accessAllowed) {\n",
              "        return;\n",
              "      }\n",
              "      const div = document.createElement('div');\n",
              "      const label = document.createElement('label');\n",
              "      label.textContent = `Downloading \"${filename}\": `;\n",
              "      div.appendChild(label);\n",
              "      const progress = document.createElement('progress');\n",
              "      progress.max = size;\n",
              "      div.appendChild(progress);\n",
              "      document.body.appendChild(div);\n",
              "\n",
              "      const buffers = [];\n",
              "      let downloaded = 0;\n",
              "\n",
              "      const channel = await google.colab.kernel.comms.open(id);\n",
              "      // Send a message to notify the kernel that we're ready.\n",
              "      channel.send({})\n",
              "\n",
              "      for await (const message of channel.messages) {\n",
              "        // Send a message to notify the kernel that we're ready.\n",
              "        channel.send({})\n",
              "        if (message.buffers) {\n",
              "          for (const buffer of message.buffers) {\n",
              "            buffers.push(buffer);\n",
              "            downloaded += buffer.byteLength;\n",
              "            progress.value = downloaded;\n",
              "          }\n",
              "        }\n",
              "      }\n",
              "      const blob = new Blob(buffers, {type: 'application/binary'});\n",
              "      const a = document.createElement('a');\n",
              "      a.href = window.URL.createObjectURL(blob);\n",
              "      a.download = filename;\n",
              "      div.appendChild(a);\n",
              "      a.click();\n",
              "      div.remove();\n",
              "    }\n",
              "  "
            ],
            "text/plain": [
              "<IPython.core.display.Javascript object>"
            ]
          },
          "metadata": {}
        },
        {
          "output_type": "display_data",
          "data": {
            "application/javascript": [
              "download(\"download_7687df8e-e637-44b2-b7ef-e1670c2f5e00\", \"T_ATP_2021_65.csv\", 797688)"
            ],
            "text/plain": [
              "<IPython.core.display.Javascript object>"
            ]
          },
          "metadata": {}
        }
      ]
    },
    {
      "cell_type": "code",
      "metadata": {
        "id": "HzixDRELDIQ3"
      },
      "source": [
        "# past_2.to_csv('T_WTA_past2_65.csv') \n",
        "# files.download('T_WTA_past2_65.csv')\n",
        "\n",
        "# past_2.to_csv('T_ATP_past2_65.csv') \n",
        "# files.download('T_ATP_past2_65.csv')\n",
        "\n",
        "# past_2.to_csv('T_CHQ_past2_65.csv') \n",
        "# files.download('T_CHQ_past2_65.csv')"
      ],
      "execution_count": 50,
      "outputs": []
    },
    {
      "cell_type": "code",
      "metadata": {
        "colab": {
          "base_uri": "https://localhost:8080/"
        },
        "id": "kOMVNhJK_Rha",
        "outputId": "c0d4d3b4-88f9-4844-bedb-a48375ec9fef"
      },
      "source": [
        "past_2.columns"
      ],
      "execution_count": 51,
      "outputs": [
        {
          "output_type": "execute_result",
          "data": {
            "text/plain": [
              "Index(['tourney_id', 'tourney_name', 'surface', 'draw_size', 'tourney_level',\n",
              "       'tourney_date', 'match_num', 'winner_id', 'winner_seed', 'winner_entry',\n",
              "       'winner_name', 'winner_hand', 'winner_ht', 'winner_ioc', 'winner_age',\n",
              "       'loser_id', 'loser_seed', 'loser_entry', 'loser_name', 'loser_hand',\n",
              "       'loser_ht', 'loser_ioc', 'loser_age', 'score', 'best_of', 'round',\n",
              "       'minutes', 'w_ace', 'w_df', 'w_svpt', 'w_1stIn', 'w_1stWon', 'w_2ndWon',\n",
              "       'w_SvGms', 'w_bpSaved', 'w_bpFaced', 'l_ace', 'l_df', 'l_svpt',\n",
              "       'l_1stIn', 'l_1stWon', 'l_2ndWon', 'l_SvGms', 'l_bpSaved', 'l_bpFaced',\n",
              "       'winner_rank', 'winner_rank_points', 'loser_rank', 'loser_rank_points',\n",
              "       'w_1st_In_prc', 'l_1st_In_prc', 'w_1stprc', 'l_1stprc', 'w_2ndprc',\n",
              "       'l_2ndprc', 'w_bpSavedprc', 'l_bpSavedprc', 'w_dr', 'l_dr',\n",
              "       'w1st_retprc', 'l1st_retprc', 'w2nd_retprc', 'l2nd_retprc', 'nos',\n",
              "       'comeback'],\n",
              "      dtype='object')"
            ]
          },
          "metadata": {},
          "execution_count": 51
        }
      ]
    },
    {
      "cell_type": "code",
      "metadata": {
        "colab": {
          "base_uri": "https://localhost:8080/",
          "height": 204
        },
        "id": "vuu08jjxfJ3e",
        "outputId": "2fc9a266-9087-4bbb-9aa4-936ae9a03ad8"
      },
      "source": [
        "past_2[['winner_name','loser_name','score','comeback','nos','w_dr', 'l_dr']].head(5)"
      ],
      "execution_count": 52,
      "outputs": [
        {
          "output_type": "execute_result",
          "data": {
            "text/html": [
              "<div>\n",
              "<style scoped>\n",
              "    .dataframe tbody tr th:only-of-type {\n",
              "        vertical-align: middle;\n",
              "    }\n",
              "\n",
              "    .dataframe tbody tr th {\n",
              "        vertical-align: top;\n",
              "    }\n",
              "\n",
              "    .dataframe thead th {\n",
              "        text-align: right;\n",
              "    }\n",
              "</style>\n",
              "<table border=\"1\" class=\"dataframe\">\n",
              "  <thead>\n",
              "    <tr style=\"text-align: right;\">\n",
              "      <th></th>\n",
              "      <th>winner_name</th>\n",
              "      <th>loser_name</th>\n",
              "      <th>score</th>\n",
              "      <th>comeback</th>\n",
              "      <th>nos</th>\n",
              "      <th>w_dr</th>\n",
              "      <th>l_dr</th>\n",
              "    </tr>\n",
              "  </thead>\n",
              "  <tbody>\n",
              "    <tr>\n",
              "      <th>0</th>\n",
              "      <td>Hubert Hurkacz</td>\n",
              "      <td>Sebastian Korda</td>\n",
              "      <td>6-3 6-3</td>\n",
              "      <td>0</td>\n",
              "      <td>2</td>\n",
              "      <td>1.48</td>\n",
              "      <td>0.68</td>\n",
              "    </tr>\n",
              "    <tr>\n",
              "      <th>1</th>\n",
              "      <td>Hubert Hurkacz</td>\n",
              "      <td>Christian Harrison</td>\n",
              "      <td>7-6(4) 6-4</td>\n",
              "      <td>0</td>\n",
              "      <td>2</td>\n",
              "      <td>1.12</td>\n",
              "      <td>0.89</td>\n",
              "    </tr>\n",
              "    <tr>\n",
              "      <th>2</th>\n",
              "      <td>Sebastian Korda</td>\n",
              "      <td>Cameron Norrie</td>\n",
              "      <td>6-3 7-5</td>\n",
              "      <td>0</td>\n",
              "      <td>2</td>\n",
              "      <td>1.29</td>\n",
              "      <td>0.78</td>\n",
              "    </tr>\n",
              "    <tr>\n",
              "      <th>3</th>\n",
              "      <td>Christian Harrison</td>\n",
              "      <td>Gianluca Mager</td>\n",
              "      <td>7-6(2) 6-4</td>\n",
              "      <td>0</td>\n",
              "      <td>2</td>\n",
              "      <td>1.43</td>\n",
              "      <td>0.70</td>\n",
              "    </tr>\n",
              "    <tr>\n",
              "      <th>4</th>\n",
              "      <td>Hubert Hurkacz</td>\n",
              "      <td>Roberto Quiroz</td>\n",
              "      <td>6-4 6-4</td>\n",
              "      <td>0</td>\n",
              "      <td>2</td>\n",
              "      <td>1.40</td>\n",
              "      <td>0.71</td>\n",
              "    </tr>\n",
              "  </tbody>\n",
              "</table>\n",
              "</div>"
            ],
            "text/plain": [
              "          winner_name          loser_name       score  ...  nos  w_dr  l_dr\n",
              "0      Hubert Hurkacz     Sebastian Korda     6-3 6-3  ...    2  1.48  0.68\n",
              "1      Hubert Hurkacz  Christian Harrison  7-6(4) 6-4  ...    2  1.12  0.89\n",
              "2     Sebastian Korda      Cameron Norrie     6-3 7-5  ...    2  1.29  0.78\n",
              "3  Christian Harrison      Gianluca Mager  7-6(2) 6-4  ...    2  1.43  0.70\n",
              "4      Hubert Hurkacz      Roberto Quiroz     6-4 6-4  ...    2  1.40  0.71\n",
              "\n",
              "[5 rows x 7 columns]"
            ]
          },
          "metadata": {},
          "execution_count": 52
        }
      ]
    },
    {
      "cell_type": "code",
      "metadata": {
        "colab": {
          "base_uri": "https://localhost:8080/",
          "height": 204
        },
        "id": "5qJ9FfxtfZz4",
        "outputId": "37807bf5-6a09-4087-c30d-f46687e4b405"
      },
      "source": [
        "past_2[['winner_name','loser_name','score','comeback','nos','w_dr', 'l_dr']].tail(5)"
      ],
      "execution_count": 53,
      "outputs": [
        {
          "output_type": "execute_result",
          "data": {
            "text/html": [
              "<div>\n",
              "<style scoped>\n",
              "    .dataframe tbody tr th:only-of-type {\n",
              "        vertical-align: middle;\n",
              "    }\n",
              "\n",
              "    .dataframe tbody tr th {\n",
              "        vertical-align: top;\n",
              "    }\n",
              "\n",
              "    .dataframe thead th {\n",
              "        text-align: right;\n",
              "    }\n",
              "</style>\n",
              "<table border=\"1\" class=\"dataframe\">\n",
              "  <thead>\n",
              "    <tr style=\"text-align: right;\">\n",
              "      <th></th>\n",
              "      <th>winner_name</th>\n",
              "      <th>loser_name</th>\n",
              "      <th>score</th>\n",
              "      <th>comeback</th>\n",
              "      <th>nos</th>\n",
              "      <th>w_dr</th>\n",
              "      <th>l_dr</th>\n",
              "    </tr>\n",
              "  </thead>\n",
              "  <tbody>\n",
              "    <tr>\n",
              "      <th>2274</th>\n",
              "      <td>Illya Marchenko</td>\n",
              "      <td>Andreas Seppi</td>\n",
              "      <td>6-4 6-2</td>\n",
              "      <td>0</td>\n",
              "      <td>2</td>\n",
              "      <td>1.42</td>\n",
              "      <td>0.70</td>\n",
              "    </tr>\n",
              "    <tr>\n",
              "      <th>2275</th>\n",
              "      <td>Marcos Giron</td>\n",
              "      <td>Jaume Munar</td>\n",
              "      <td>6-7(2) 6-1 6-4</td>\n",
              "      <td>1</td>\n",
              "      <td>3</td>\n",
              "      <td>1.10</td>\n",
              "      <td>0.91</td>\n",
              "    </tr>\n",
              "    <tr>\n",
              "      <th>2276</th>\n",
              "      <td>Gianluca Mager</td>\n",
              "      <td>Adrian Mannarino</td>\n",
              "      <td>6-3 6-2</td>\n",
              "      <td>0</td>\n",
              "      <td>2</td>\n",
              "      <td>1.74</td>\n",
              "      <td>0.58</td>\n",
              "    </tr>\n",
              "    <tr>\n",
              "      <th>2277</th>\n",
              "      <td>Miomir Kecmanovic</td>\n",
              "      <td>Adrian Andreev</td>\n",
              "      <td>7-6(7) 6-4</td>\n",
              "      <td>0</td>\n",
              "      <td>2</td>\n",
              "      <td>1.17</td>\n",
              "      <td>0.86</td>\n",
              "    </tr>\n",
              "    <tr>\n",
              "      <th>2278</th>\n",
              "      <td>Ilya Ivashka</td>\n",
              "      <td>Pablo Andujar</td>\n",
              "      <td>6-4 6-3</td>\n",
              "      <td>0</td>\n",
              "      <td>2</td>\n",
              "      <td>1.16</td>\n",
              "      <td>0.86</td>\n",
              "    </tr>\n",
              "  </tbody>\n",
              "</table>\n",
              "</div>"
            ],
            "text/plain": [
              "            winner_name        loser_name           score  ...  nos  w_dr  l_dr\n",
              "2274    Illya Marchenko     Andreas Seppi         6-4 6-2  ...    2  1.42  0.70\n",
              "2275       Marcos Giron       Jaume Munar  6-7(2) 6-1 6-4  ...    3  1.10  0.91\n",
              "2276     Gianluca Mager  Adrian Mannarino         6-3 6-2  ...    2  1.74  0.58\n",
              "2277  Miomir Kecmanovic    Adrian Andreev      7-6(7) 6-4  ...    2  1.17  0.86\n",
              "2278       Ilya Ivashka     Pablo Andujar         6-4 6-3  ...    2  1.16  0.86\n",
              "\n",
              "[5 rows x 7 columns]"
            ]
          },
          "metadata": {},
          "execution_count": 53
        }
      ]
    },
    {
      "cell_type": "code",
      "metadata": {
        "id": "_eR0ksT86yvw"
      },
      "source": [
        ""
      ],
      "execution_count": 53,
      "outputs": []
    }
  ]
}